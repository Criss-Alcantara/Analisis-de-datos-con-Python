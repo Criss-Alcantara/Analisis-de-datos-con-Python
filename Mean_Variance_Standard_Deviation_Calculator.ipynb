{
  "nbformat": 4,
  "nbformat_minor": 0,
  "metadata": {
    "colab": {
      "name": "Mean-Variance-Standard Deviation Calculator",
      "provenance": [],
      "collapsed_sections": [],
      "authorship_tag": "ABX9TyPhMEt0OLCpoIuP0dz7zbOF",
      "include_colab_link": true
    },
    "kernelspec": {
      "name": "python3",
      "display_name": "Python 3"
    },
    "language_info": {
      "name": "python"
    }
  },
  "cells": [
    {
      "cell_type": "markdown",
      "metadata": {
        "id": "view-in-github",
        "colab_type": "text"
      },
      "source": [
        "<a href=\"https://colab.research.google.com/github/Criss-Alcantara/Analisis-de-datos-con-Python/blob/main/Mean_Variance_Standard_Deviation_Calculator.ipynb\" target=\"_parent\"><img src=\"https://colab.research.google.com/assets/colab-badge.svg\" alt=\"Open In Colab\"/></a>"
      ]
    },
    {
      "cell_type": "code",
      "execution_count": 1,
      "metadata": {
        "id": "NcD2jSqoVqE0"
      },
      "outputs": [],
      "source": [
        "import numpy as np"
      ]
    },
    {
      "cell_type": "code",
      "source": [
        "def calculate(numbers):\n",
        "  if len(numbers) != 9:\n",
        "    raise ValueError(\"The list must have 9 numbers\")\n",
        "  newData = np.reshape(np.array(numbers),(3,3))\n",
        "  results = {}\n",
        "  results['mean'] = [np.mean(newData, axis=0).tolist(), np.mean(newData, axis=1).tolist(), np.mean(newData.flatten()).tolist()]\n",
        "  results['variance'] = [np.var(newData, axis=0).tolist(), np.var(newData, axis=1).tolist(), np.var(newData.flatten()).tolist()]\n",
        "  results['standar deviation'] = [np.std(newData, axis=0).tolist(), np.std(newData, axis=1).tolist(), np.std(newData.flatten()).tolist()]\n",
        "  results['max'] = [np.max(newData, axis=0).tolist(), np.max(newData, axis=1).tolist(), np.max(newData.flatten()).tolist()]\n",
        "  results['min'] = [np.min(newData, axis=0).tolist(), np.min(newData, axis=1).tolist(), np.min(newData.flatten()).tolist()]\n",
        "  results['sum'] = [np.sum(newData, axis = 0).tolist(), np.sum(newData, axis = 1).tolist(),np.sum(newData, axis = 0).tolist(), np.sum(newData.flatten()).tolist()]\n",
        "  return results"
      ],
      "metadata": {
        "id": "UL__tMHVZVm2"
      },
      "execution_count": 5,
      "outputs": []
    },
    {
      "cell_type": "code",
      "source": [
        "calculate([0,1,2,3,4,5,6,7,8])"
      ],
      "metadata": {
        "colab": {
          "base_uri": "https://localhost:8080/"
        },
        "id": "VSYrI5GFa8uP",
        "outputId": "baa30bc6-8db0-40d8-c9ac-b95ae633dd8e"
      },
      "execution_count": 6,
      "outputs": [
        {
          "output_type": "execute_result",
          "data": {
            "text/plain": [
              "{'max': [[6, 7, 8], [2, 5, 8], 8],\n",
              " 'mean': [[3.0, 4.0, 5.0], [1.0, 4.0, 7.0], 4.0],\n",
              " 'min': [[0, 1, 2], [0, 3, 6], 0],\n",
              " 'standar deviation': [[2.449489742783178,\n",
              "   2.449489742783178,\n",
              "   2.449489742783178],\n",
              "  [0.816496580927726, 0.816496580927726, 0.816496580927726],\n",
              "  2.581988897471611],\n",
              " 'sum': [[9, 12, 15], [3, 12, 21], [9, 12, 15], 36],\n",
              " 'variance': [[6.0, 6.0, 6.0],\n",
              "  [0.6666666666666666, 0.6666666666666666, 0.6666666666666666],\n",
              "  6.666666666666667]}"
            ]
          },
          "metadata": {},
          "execution_count": 6
        }
      ]
    }
  ]
}